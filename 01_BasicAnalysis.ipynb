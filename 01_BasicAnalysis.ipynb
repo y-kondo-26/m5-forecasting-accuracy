{
 "cells": [
  {
   "cell_type": "code",
   "execution_count": 1,
   "metadata": {},
   "outputs": [],
   "source": [
    "import pandas as pd\n",
    "import tqdm\n",
    "import gc\n",
    "import pickle\n",
    "import gzip\n",
    "import matplotlib as plt\n",
    "import seaborn as sns\n",
    "%matplotlib inline"
   ]
  },
  {
   "cell_type": "code",
   "execution_count": null,
   "metadata": {},
   "outputs": [],
   "source": [
    "with gzip.open('input/pickle/df_sales_with_calender_price.pickle.gz', mode='rb') as fp:\n",
    "    data_for_load = fp.read()\n",
    "df_sales_cal = pickle.loads(data_for_load)\n",
    "del data_for_load\n",
    "gc.collect()"
   ]
  },
  {
   "cell_type": "markdown",
   "metadata": {},
   "source": [
    "## 0.trainingとvalidationとevaluationの期間  \n",
    " - 未来の予測のため、特徴量も未来時点のデータが分からないものは使えない  \n",
    " - 訓練データと検証データは基準日を設定し、基準日以前を訓練データ、以降を過去データとする"
   ]
  },
  {
   "cell_type": "markdown",
   "metadata": {},
   "source": [
    "<img src=\"fig/06_training_validation_evaluation.png\">"
   ]
  },
  {
   "cell_type": "markdown",
   "metadata": {},
   "source": [
    "## 1.日々の全店舗全商品売上合計の推移  \n",
    " - 右肩上がり\n",
    " - 12月に売れない日あり  \n",
    "### →売上規模は年月の特徴量で分かりそう"
   ]
  },
  {
   "cell_type": "markdown",
   "metadata": {},
   "source": [
    "<img src=\"fig/01_daily_sales.png\">"
   ]
  },
  {
   "cell_type": "markdown",
   "metadata": {},
   "source": [
    "## 2.日々の全店舗全商品売上合計の推移  \n",
    " - CAは売上大きく、12月1月に下がりやすい\n",
    " - WIはTXより増加傾向  \n",
    "### →STATE（か店舗）×月は重要そう"
   ]
  },
  {
   "cell_type": "markdown",
   "metadata": {},
   "source": [
    "<img src=\"fig/02_monthly_sales_per_state.png\">"
   ]
  },
  {
   "cell_type": "markdown",
   "metadata": {},
   "source": [
    "## 3.カテゴリや店舗の傾向 \n",
    " - そこそこある\n",
    "### →あとでみる"
   ]
  },
  {
   "cell_type": "markdown",
   "metadata": {},
   "source": [
    "<img src=\"fig/03_sales_per_store_and_category.png\">"
   ]
  },
  {
   "cell_type": "markdown",
   "metadata": {},
   "source": [
    "## 4.曜日と売上  \n",
    " - 土日は売れる\n",
    " - 月ごとに曜日影響は多少変わる  \n",
    "### →曜日×月などを特徴量に"
   ]
  },
  {
   "cell_type": "markdown",
   "metadata": {},
   "source": [
    "<img src=\"fig/04_weekday_sales.png\">"
   ]
  },
  {
   "cell_type": "markdown",
   "metadata": {},
   "source": [
    "## 5.季節性 \n",
    " - 週の変動はカテゴリや州で似通っている\n",
    " - 月の変動はカテゴリや州でグラフの形が結構変わる  \n",
    "### →週は曜日×月のみ、月はカテゴリや州ごとに特徴量を作る"
   ]
  },
  {
   "cell_type": "markdown",
   "metadata": {},
   "source": [
    "<img src=\"fig/05_seasonality.png\">"
   ]
  },
  {
   "cell_type": "markdown",
   "metadata": {},
   "source": [
    "## 6.イベント  \n",
    " - 1割弱イベント日がある\n",
    " - SNAP（フードスタンプ）はFoodsの売上に関わりそう  \n",
    "### →イベントはカテゴリ軸で影響を調べる"
   ]
  },
  {
   "cell_type": "markdown",
   "metadata": {},
   "source": [
    "<img src=\"fig/06_calender.png\">"
   ]
  },
  {
   "cell_type": "markdown",
   "metadata": {},
   "source": [
    "## 7.SNAP  \n",
    " - 週ごとに使える日が異なるが規則性がありそう\n",
    "### →毎年同じ規則なら未来日の特徴量にも使える"
   ]
  },
  {
   "cell_type": "markdown",
   "metadata": {},
   "source": [
    "<img src=\"fig/07_snapdays.png\">"
   ]
  }
 ],
 "metadata": {
  "kernelspec": {
   "display_name": "Python 3",
   "language": "python",
   "name": "python3"
  },
  "language_info": {
   "codemirror_mode": {
    "name": "ipython",
    "version": 3
   },
   "file_extension": ".py",
   "mimetype": "text/x-python",
   "name": "python",
   "nbconvert_exporter": "python",
   "pygments_lexer": "ipython3",
   "version": "3.7.4"
  }
 },
 "nbformat": 4,
 "nbformat_minor": 2
}
