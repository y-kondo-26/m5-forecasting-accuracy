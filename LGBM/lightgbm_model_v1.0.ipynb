{
 "cells": [
  {
   "cell_type": "markdown",
   "metadata": {},
   "source": [
    "### 使用するライラリ"
   ]
  },
  {
   "cell_type": "code",
   "execution_count": 1,
   "metadata": {},
   "outputs": [],
   "source": [
    "from  datetime import datetime, timedelta\n",
    "import gc\n",
    "import numpy as np, pandas as pd\n",
    "import lightgbm as lgb\n",
    "import warnings\n",
    "warnings.filterwarnings('ignore')"
   ]
  },
  {
   "cell_type": "markdown",
   "metadata": {},
   "source": [
    "### 作成済みDataFrameの読み込み"
   ]
  },
  {
   "cell_type": "code",
   "execution_count": 28,
   "metadata": {},
   "outputs": [],
   "source": [
    "DF_FILE_PATH = '../input/pickle/df_baseline_ver1.pickle.gz'\n",
    "SAMPLE_SUBMIT_PATH = '../input/csv/sample_submission.csv.gz'"
   ]
  },
  {
   "cell_type": "code",
   "execution_count": 3,
   "metadata": {},
   "outputs": [],
   "source": [
    "df = pd.read_pickle(DF_FILE_PATH)"
   ]
  },
  {
   "cell_type": "code",
   "execution_count": 4,
   "metadata": {
    "scrolled": true
   },
   "outputs": [
    {
     "name": "stdout",
     "output_type": "stream",
     "text": [
      "<class 'pandas.core.frame.DataFrame'>\n",
      "Int64Index: 31681090 entries, 0 to 31681089\n",
      "Data columns (total 68 columns):\n",
      " #   Column                     Dtype         \n",
      "---  ------                     -----         \n",
      " 0   id                         object        \n",
      " 1   item_id                    int16         \n",
      " 2   dept_id                    int8          \n",
      " 3   cat_id                     int8          \n",
      " 4   store_id                   int8          \n",
      " 5   state_id                   int8          \n",
      " 6   d                          int16         \n",
      " 7   demand                     int16         \n",
      " 8   part                       object        \n",
      " 9   date                       datetime64[ns]\n",
      " 10  wm_yr_wk                   int16         \n",
      " 11  event_name_1               float16       \n",
      " 12  event_type_1               float16       \n",
      " 13  event_name_2               float16       \n",
      " 14  event_type_2               float16       \n",
      " 15  snap_CA                    int8          \n",
      " 16  snap_TX                    int8          \n",
      " 17  snap_WI                    int8          \n",
      " 18  sell_price                 float16       \n",
      " 19  year                       int16         \n",
      " 20  quarter                    int8          \n",
      " 21  month                      int8          \n",
      " 22  week                       int8          \n",
      " 23  day                        int8          \n",
      " 24  dayofweek                  int8          \n",
      " 25  is_year_end                int8          \n",
      " 26  is_year_start              int8          \n",
      " 27  is_quarter_end             int8          \n",
      " 28  is_quarter_start           int8          \n",
      " 29  is_month_end               int8          \n",
      " 30  is_month_start             int8          \n",
      " 31  is_weekend                 int8          \n",
      " 32  holiday                    int8          \n",
      " 33  shift_t28                  float16       \n",
      " 34  shift_t29                  float16       \n",
      " 35  shift_t30                  float16       \n",
      " 36  shift_t35                  float16       \n",
      " 37  rolling_std_t7             float16       \n",
      " 38  rolling_std_t30            float16       \n",
      " 39  rolling_std_t60            float16       \n",
      " 40  rolling_std_t90            float16       \n",
      " 41  rolling_std_t180           float16       \n",
      " 42  rolling_mean_t7            float16       \n",
      " 43  rolling_mean_t30           float16       \n",
      " 44  rolling_mean_t60           float16       \n",
      " 45  rolling_mean_t90           float16       \n",
      " 46  rolling_mean_t180          float16       \n",
      " 47  rolling_skew_t30           float16       \n",
      " 48  rolling_kurt_t30           float16       \n",
      " 49  rolling_mean_365_t7        float16       \n",
      " 50  rolling_mean_365_t30       float16       \n",
      " 51  rolling_mean_365_t60       float16       \n",
      " 52  rolling_mean_365_t90       float16       \n",
      " 53  rolling_mean_365_t180      float16       \n",
      " 54  rolling_std_holiday_t7     float16       \n",
      " 55  rolling_std_holiday_t30    float16       \n",
      " 56  rolling_std_holiday_t60    float16       \n",
      " 57  rolling_std_holiday_t90    float16       \n",
      " 58  rolling_std_holiday_t180   float16       \n",
      " 59  rolling_mean_holiday_t7    float16       \n",
      " 60  rolling_mean_holiday_t30   float16       \n",
      " 61  rolling_mean_holiday_t60   float16       \n",
      " 62  rolling_mean_holiday_t90   float16       \n",
      " 63  rolling_mean_holiday_t180  float16       \n",
      " 64  price_change_t1            float16       \n",
      " 65  price_change_t365          float16       \n",
      " 66  rolling_price_std_t7       float16       \n",
      " 67  rolling_price_std_t30      float16       \n",
      "dtypes: datetime64[ns](1), float16(40), int16(5), int8(20), object(2)\n",
      "memory usage: 4.2+ GB\n"
     ]
    }
   ],
   "source": [
    "df.info()"
   ]
  },
  {
   "cell_type": "markdown",
   "metadata": {},
   "source": [
    "### カテゴリ型コラムと未使用コラムを指定"
   ]
  },
  {
   "cell_type": "code",
   "execution_count": 4,
   "metadata": {},
   "outputs": [],
   "source": [
    "cat_feats = ['item_id', 'dept_id','store_id', 'cat_id', 'state_id']\\\n",
    "            + ['event_name_1', 'event_name_2', 'event_type_1', 'event_type_2']\\\n",
    "            + ['quarter', 'month', 'week', 'dayofweek']\n",
    "useless_cols = ['id', 'date', 'demand','d', 'part', 'wm_yr_wk', 'weekday', 'day']\n",
    "train_cols = df.columns[~df.columns.isin(useless_cols)]\n",
    "X_train = df[df['part']=='train'][train_cols]\n",
    "y_train = df[df['part']=='train']['demand']\n",
    "X_test = df[df['part']=='validation'][train_cols]\n",
    "test = df[df['part']=='validation'][['id', 'd']].reset_index(drop=True)"
   ]
  },
  {
   "cell_type": "code",
   "execution_count": 7,
   "metadata": {
    "scrolled": false
   },
   "outputs": [
    {
     "data": {
      "text/plain": [
       "40"
      ]
     },
     "execution_count": 7,
     "metadata": {},
     "output_type": "execute_result"
    }
   ],
   "source": [
    "gc.collect()"
   ]
  },
  {
   "cell_type": "markdown",
   "metadata": {},
   "source": [
    "### 不用データ削除"
   ]
  },
  {
   "cell_type": "code",
   "execution_count": 8,
   "metadata": {},
   "outputs": [],
   "source": [
    "df['rolling_mean_t7'].dropna(inplace=True)"
   ]
  },
  {
   "cell_type": "markdown",
   "metadata": {},
   "source": [
    "### 学習時のvalid_dataをランダムチョイスで作成"
   ]
  },
  {
   "cell_type": "code",
   "execution_count": 9,
   "metadata": {},
   "outputs": [
    {
     "name": "stdout",
     "output_type": "stream",
     "text": [
      "Wall time: 26.4 s\n"
     ]
    }
   ],
   "source": [
    "%%time\n",
    "\n",
    "np.random.seed(777)\n",
    "\n",
    "fake_valid_inds = np.random.choice(X_train.index.values, 2_000_000, replace = False)\n",
    "train_inds = np.setdiff1d(X_train.index.values, fake_valid_inds)\n",
    "train_data = lgb.Dataset(X_train.loc[train_inds] , label = y_train.loc[train_inds], \n",
    "                         categorical_feature=cat_feats, free_raw_data=False)\n",
    "fake_valid_data = lgb.Dataset(X_train.loc[fake_valid_inds], label = y_train.loc[fake_valid_inds],\n",
    "                              categorical_feature=cat_feats,\n",
    "                 free_raw_data=False)# This is a random sample, we're not gonna apply any time series train-test-split tricks here!"
   ]
  },
  {
   "cell_type": "code",
   "execution_count": 10,
   "metadata": {},
   "outputs": [],
   "source": [
    "# train_data = lgb.Dataset(X_train , label = y_train, \n",
    "#                          categorical_feature=cat_feats, free_raw_data=False)\n",
    "# fake_valid_data = lgb.Dataset(X_test, label = y_test,\n",
    "#                               categorical_feature=cat_feats, free_raw_data=False)"
   ]
  },
  {
   "cell_type": "code",
   "execution_count": 11,
   "metadata": {},
   "outputs": [
    {
     "data": {
      "text/plain": [
       "40"
      ]
     },
     "execution_count": 11,
     "metadata": {},
     "output_type": "execute_result"
    }
   ],
   "source": [
    "del df, X_train, y_train, fake_valid_inds,train_inds\n",
    "gc.collect()"
   ]
  },
  {
   "cell_type": "code",
   "execution_count": 12,
   "metadata": {},
   "outputs": [],
   "source": [
    "params = {\n",
    "        \"objective\" : \"poisson\",\n",
    "        \"metric\" :\"mse\",\n",
    "        \"force_row_wise\" : True,\n",
    "        \"learning_rate\" : 0.075,\n",
    "#         \"sub_feature\" : 0.8,\n",
    "        \"sub_row\" : 0.75,\n",
    "        \"bagging_freq\" : 1,\n",
    "        \"lambda_l2\" : 0.1,\n",
    "        \"nthread\" : 3,\n",
    "        \"metric\": [\"mse\"],\n",
    "        \"verbosity\": 1,\n",
    "        \"num_iterations\" : 5000,\n",
    "        \"num_leaves\": 128,\n",
    "        \"min_data_in_leaf\": 100,\n",
    "}"
   ]
  },
  {
   "cell_type": "code",
   "execution_count": 13,
   "metadata": {},
   "outputs": [
    {
     "name": "stdout",
     "output_type": "stream",
     "text": [
      "Training until validation scores don't improve for 100 rounds\n",
      "[10]\tvalid_0's l2: 10.22\n",
      "[20]\tvalid_0's l2: 7.95245\n",
      "[30]\tvalid_0's l2: 6.90587\n",
      "[40]\tvalid_0's l2: 6.39137\n",
      "[50]\tvalid_0's l2: 6.16852\n",
      "[60]\tvalid_0's l2: 6.04062\n",
      "[70]\tvalid_0's l2: 5.9529\n",
      "[80]\tvalid_0's l2: 5.89756\n",
      "[90]\tvalid_0's l2: 5.86631\n",
      "[100]\tvalid_0's l2: 5.83417\n",
      "[110]\tvalid_0's l2: 5.80337\n",
      "[120]\tvalid_0's l2: 5.77679\n",
      "[130]\tvalid_0's l2: 5.74296\n",
      "[140]\tvalid_0's l2: 5.72329\n",
      "[150]\tvalid_0's l2: 5.70753\n",
      "[160]\tvalid_0's l2: 5.67426\n",
      "[170]\tvalid_0's l2: 5.65068\n",
      "[180]\tvalid_0's l2: 5.62731\n",
      "[190]\tvalid_0's l2: 5.60493\n",
      "[200]\tvalid_0's l2: 5.5951\n",
      "[210]\tvalid_0's l2: 5.58198\n",
      "[220]\tvalid_0's l2: 5.57189\n",
      "[230]\tvalid_0's l2: 5.55677\n",
      "[240]\tvalid_0's l2: 5.54461\n",
      "[250]\tvalid_0's l2: 5.53322\n",
      "[260]\tvalid_0's l2: 5.52208\n",
      "[270]\tvalid_0's l2: 5.50861\n",
      "[280]\tvalid_0's l2: 5.49478\n",
      "[290]\tvalid_0's l2: 5.48026\n",
      "[300]\tvalid_0's l2: 5.46103\n",
      "[310]\tvalid_0's l2: 5.44407\n",
      "[320]\tvalid_0's l2: 5.42693\n",
      "[330]\tvalid_0's l2: 5.4154\n",
      "[340]\tvalid_0's l2: 5.39811\n",
      "[350]\tvalid_0's l2: 5.38476\n",
      "[360]\tvalid_0's l2: 5.37445\n",
      "[370]\tvalid_0's l2: 5.37283\n",
      "[380]\tvalid_0's l2: 5.3694\n",
      "[390]\tvalid_0's l2: 5.35952\n",
      "[400]\tvalid_0's l2: 5.34616\n",
      "[410]\tvalid_0's l2: 5.3486\n",
      "[420]\tvalid_0's l2: 5.33809\n",
      "[430]\tvalid_0's l2: 5.32642\n",
      "[440]\tvalid_0's l2: 5.32009\n",
      "[450]\tvalid_0's l2: 5.31171\n",
      "[460]\tvalid_0's l2: 5.29962\n",
      "[470]\tvalid_0's l2: 5.29097\n",
      "[480]\tvalid_0's l2: 5.28103\n",
      "[490]\tvalid_0's l2: 5.27985\n",
      "[500]\tvalid_0's l2: 5.27487\n",
      "[510]\tvalid_0's l2: 5.26701\n",
      "[520]\tvalid_0's l2: 5.27497\n",
      "[530]\tvalid_0's l2: 5.27033\n",
      "[540]\tvalid_0's l2: 5.26426\n",
      "[550]\tvalid_0's l2: 5.25544\n",
      "[560]\tvalid_0's l2: 5.24873\n",
      "[570]\tvalid_0's l2: 5.23937\n",
      "[580]\tvalid_0's l2: 5.23463\n",
      "[590]\tvalid_0's l2: 5.23079\n",
      "[600]\tvalid_0's l2: 5.22608\n",
      "[610]\tvalid_0's l2: 5.20908\n",
      "[620]\tvalid_0's l2: 5.20531\n",
      "[630]\tvalid_0's l2: 5.19787\n",
      "[640]\tvalid_0's l2: 5.19336\n",
      "[650]\tvalid_0's l2: 5.18746\n",
      "[660]\tvalid_0's l2: 5.18023\n",
      "[670]\tvalid_0's l2: 5.17142\n",
      "[680]\tvalid_0's l2: 5.16443\n",
      "[690]\tvalid_0's l2: 5.16183\n",
      "[700]\tvalid_0's l2: 5.15831\n",
      "[710]\tvalid_0's l2: 5.15244\n",
      "[720]\tvalid_0's l2: 5.14692\n",
      "[730]\tvalid_0's l2: 5.14285\n",
      "[740]\tvalid_0's l2: 5.13977\n",
      "[750]\tvalid_0's l2: 5.13669\n",
      "[760]\tvalid_0's l2: 5.13399\n",
      "[770]\tvalid_0's l2: 5.13242\n",
      "[780]\tvalid_0's l2: 5.12972\n",
      "[790]\tvalid_0's l2: 5.12559\n",
      "[800]\tvalid_0's l2: 5.11944\n",
      "[810]\tvalid_0's l2: 5.11859\n",
      "[820]\tvalid_0's l2: 5.11574\n",
      "[830]\tvalid_0's l2: 5.11987\n",
      "[840]\tvalid_0's l2: 5.11452\n",
      "[850]\tvalid_0's l2: 5.11254\n",
      "[860]\tvalid_0's l2: 5.10688\n",
      "[870]\tvalid_0's l2: 5.10069\n",
      "[880]\tvalid_0's l2: 5.09845\n",
      "[890]\tvalid_0's l2: 5.09657\n",
      "[900]\tvalid_0's l2: 5.09363\n",
      "[910]\tvalid_0's l2: 5.08983\n",
      "[920]\tvalid_0's l2: 5.0879\n",
      "[930]\tvalid_0's l2: 5.08326\n",
      "[940]\tvalid_0's l2: 5.08313\n",
      "[950]\tvalid_0's l2: 5.07722\n",
      "[960]\tvalid_0's l2: 5.0726\n",
      "[970]\tvalid_0's l2: 5.07418\n",
      "[980]\tvalid_0's l2: 5.07179\n",
      "[990]\tvalid_0's l2: 5.06978\n",
      "[1000]\tvalid_0's l2: 5.06709\n",
      "[1010]\tvalid_0's l2: 5.06528\n",
      "[1020]\tvalid_0's l2: 5.06323\n",
      "[1030]\tvalid_0's l2: 5.05985\n",
      "[1040]\tvalid_0's l2: 5.05639\n",
      "[1050]\tvalid_0's l2: 5.05232\n",
      "[1060]\tvalid_0's l2: 5.04972\n",
      "[1070]\tvalid_0's l2: 5.0471\n",
      "[1080]\tvalid_0's l2: 5.04109\n",
      "[1090]\tvalid_0's l2: 5.03949\n",
      "[1100]\tvalid_0's l2: 5.03921\n",
      "[1110]\tvalid_0's l2: 5.03706\n",
      "[1120]\tvalid_0's l2: 5.03552\n",
      "[1130]\tvalid_0's l2: 5.03375\n",
      "[1140]\tvalid_0's l2: 5.03077\n",
      "[1150]\tvalid_0's l2: 5.02674\n",
      "[1160]\tvalid_0's l2: 5.02425\n",
      "[1170]\tvalid_0's l2: 5.02852\n",
      "[1180]\tvalid_0's l2: 5.02575\n",
      "[1190]\tvalid_0's l2: 5.02395\n",
      "[1200]\tvalid_0's l2: 5.01905\n",
      "[1210]\tvalid_0's l2: 5.01711\n",
      "[1220]\tvalid_0's l2: 5.01481\n",
      "[1230]\tvalid_0's l2: 5.01713\n",
      "[1240]\tvalid_0's l2: 5.01777\n",
      "[1250]\tvalid_0's l2: 5.01893\n",
      "[1260]\tvalid_0's l2: 5.01737\n",
      "[1270]\tvalid_0's l2: 5.01626\n",
      "[1280]\tvalid_0's l2: 5.01164\n",
      "[1290]\tvalid_0's l2: 5.00966\n",
      "[1300]\tvalid_0's l2: 5.00705\n",
      "[1310]\tvalid_0's l2: 5.00498\n",
      "[1320]\tvalid_0's l2: 5.00263\n",
      "[1330]\tvalid_0's l2: 5.00482\n",
      "[1340]\tvalid_0's l2: 5.00356\n",
      "[1350]\tvalid_0's l2: 5.00344\n",
      "[1360]\tvalid_0's l2: 5.00331\n",
      "[1370]\tvalid_0's l2: 4.99866\n",
      "[1380]\tvalid_0's l2: 4.99893\n",
      "[1390]\tvalid_0's l2: 4.99665\n",
      "[1400]\tvalid_0's l2: 4.99467\n",
      "[1410]\tvalid_0's l2: 4.99348\n",
      "[1420]\tvalid_0's l2: 4.98992\n",
      "[1430]\tvalid_0's l2: 4.98854\n",
      "[1440]\tvalid_0's l2: 4.99091\n",
      "[1450]\tvalid_0's l2: 4.98833\n",
      "[1460]\tvalid_0's l2: 4.98625\n",
      "[1470]\tvalid_0's l2: 4.98535\n",
      "[1480]\tvalid_0's l2: 4.97777\n",
      "[1490]\tvalid_0's l2: 4.97659\n",
      "[1500]\tvalid_0's l2: 4.9739\n",
      "[1510]\tvalid_0's l2: 4.97223\n",
      "[1520]\tvalid_0's l2: 4.96884\n",
      "[1530]\tvalid_0's l2: 4.96751\n",
      "[1540]\tvalid_0's l2: 4.96593\n",
      "[1550]\tvalid_0's l2: 4.96487\n",
      "[1560]\tvalid_0's l2: 4.96406\n",
      "[1570]\tvalid_0's l2: 4.96302\n",
      "[1580]\tvalid_0's l2: 4.96091\n",
      "[1590]\tvalid_0's l2: 4.95938\n",
      "[1600]\tvalid_0's l2: 4.9574\n",
      "[1610]\tvalid_0's l2: 4.95482\n",
      "[1620]\tvalid_0's l2: 4.95454\n",
      "[1630]\tvalid_0's l2: 4.95352\n",
      "[1640]\tvalid_0's l2: 4.95178\n",
      "[1650]\tvalid_0's l2: 4.94989\n",
      "[1660]\tvalid_0's l2: 4.94833\n",
      "[1670]\tvalid_0's l2: 4.94685\n",
      "[1680]\tvalid_0's l2: 4.94566\n",
      "[1690]\tvalid_0's l2: 4.94585\n",
      "[1700]\tvalid_0's l2: 4.94514\n",
      "[1710]\tvalid_0's l2: 4.94396\n",
      "[1720]\tvalid_0's l2: 4.94273\n",
      "[1730]\tvalid_0's l2: 4.93835\n",
      "[1740]\tvalid_0's l2: 4.942\n",
      "[1750]\tvalid_0's l2: 4.93928\n",
      "[1760]\tvalid_0's l2: 4.9388\n",
      "[1770]\tvalid_0's l2: 4.93798\n",
      "[1780]\tvalid_0's l2: 4.93654\n",
      "[1790]\tvalid_0's l2: 4.93049\n",
      "[1800]\tvalid_0's l2: 4.93032\n",
      "[1810]\tvalid_0's l2: 4.92966\n",
      "[1820]\tvalid_0's l2: 4.92656\n",
      "[1830]\tvalid_0's l2: 4.92523\n",
      "[1840]\tvalid_0's l2: 4.92479\n",
      "[1850]\tvalid_0's l2: 4.92247\n",
      "[1860]\tvalid_0's l2: 4.92188\n",
      "[1870]\tvalid_0's l2: 4.92145\n",
      "[1880]\tvalid_0's l2: 4.91959\n",
      "[1890]\tvalid_0's l2: 4.91871\n",
      "[1900]\tvalid_0's l2: 4.91739\n",
      "[1910]\tvalid_0's l2: 4.91656\n",
      "[1920]\tvalid_0's l2: 4.91524\n",
      "[1930]\tvalid_0's l2: 4.91435\n",
      "[1940]\tvalid_0's l2: 4.91346\n",
      "[1950]\tvalid_0's l2: 4.9123\n",
      "[1960]\tvalid_0's l2: 4.91054\n",
      "[1970]\tvalid_0's l2: 4.90864\n",
      "[1980]\tvalid_0's l2: 4.90766\n",
      "[1990]\tvalid_0's l2: 4.90671\n",
      "[2000]\tvalid_0's l2: 4.90575\n",
      "[2010]\tvalid_0's l2: 4.90578\n",
      "[2020]\tvalid_0's l2: 4.90534\n",
      "[2030]\tvalid_0's l2: 4.90445\n",
      "[2040]\tvalid_0's l2: 4.90324\n",
      "[2050]\tvalid_0's l2: 4.89757\n",
      "[2060]\tvalid_0's l2: 4.89745\n",
      "[2070]\tvalid_0's l2: 4.89765\n",
      "[2080]\tvalid_0's l2: 4.90503\n",
      "[2090]\tvalid_0's l2: 4.90412\n",
      "[2100]\tvalid_0's l2: 4.90405\n",
      "[2110]\tvalid_0's l2: 4.90251\n",
      "[2120]\tvalid_0's l2: 4.90144\n",
      "[2130]\tvalid_0's l2: 4.90061\n",
      "[2140]\tvalid_0's l2: 4.89991\n",
      "[2150]\tvalid_0's l2: 4.89905\n",
      "[2160]\tvalid_0's l2: 4.89822\n",
      "Early stopping, best iteration is:\n",
      "[2061]\tvalid_0's l2: 4.89744\n",
      "Wall time: 2h 48min 50s\n"
     ]
    }
   ],
   "source": [
    "%%time\n",
    "m_lgb = lgb.train(params, \n",
    "                  train_data, \n",
    "                  valid_sets = [fake_valid_data], \n",
    "                  verbose_eval=10, \n",
    "                  early_stopping_rounds=100,\n",
    "                 ) "
   ]
  },
  {
   "cell_type": "code",
   "execution_count": 14,
   "metadata": {
    "scrolled": false
   },
   "outputs": [
    {
     "data": {
      "text/plain": [
       "<lightgbm.basic.Booster at 0x28a885c5bc8>"
      ]
     },
     "execution_count": 14,
     "metadata": {},
     "output_type": "execute_result"
    }
   ],
   "source": [
    "m_lgb.save_model(\"model_v1.lgb\")"
   ]
  },
  {
   "cell_type": "code",
   "execution_count": 5,
   "metadata": {},
   "outputs": [],
   "source": [
    "m_lgb = lgb.Booster(model_file=\"model_v1.lgb\")"
   ]
  },
  {
   "cell_type": "markdown",
   "metadata": {},
   "source": [
    "### 学習ここまで"
   ]
  },
  {
   "cell_type": "markdown",
   "metadata": {},
   "source": [
    "### 予測ここから"
   ]
  },
  {
   "cell_type": "code",
   "execution_count": 7,
   "metadata": {},
   "outputs": [],
   "source": [
    "y_pred = m_lgb.predict(X_test)"
   ]
  },
  {
   "cell_type": "code",
   "execution_count": 26,
   "metadata": {
    "scrolled": true
   },
   "outputs": [],
   "source": [
    "test = pd.concat([test, pd.Series(y_pred, name='demand')], axis = 1)"
   ]
  },
  {
   "cell_type": "code",
   "execution_count": 24,
   "metadata": {},
   "outputs": [],
   "source": [
    "# idがvalidationとかなければつける\n",
    "#test = test.assign(id=test.id + \"_\" + np.where(test.d <= 1941, \"validation\", \"evaluation\"),\n",
    "#                   F=\"F\" + (test.d - 1913 - 28 * (test.d > 1941)).astype(\"str\"))"
   ]
  },
  {
   "cell_type": "code",
   "execution_count": 29,
   "metadata": {},
   "outputs": [],
   "source": [
    "sample_submission = pd.read_csv(SAMPLE_SUBMIT_PATH)"
   ]
  },
  {
   "cell_type": "code",
   "execution_count": 31,
   "metadata": {},
   "outputs": [
    {
     "data": {
      "text/html": [
       "<div>\n",
       "<style scoped>\n",
       "    .dataframe tbody tr th:only-of-type {\n",
       "        vertical-align: middle;\n",
       "    }\n",
       "\n",
       "    .dataframe tbody tr th {\n",
       "        vertical-align: top;\n",
       "    }\n",
       "\n",
       "    .dataframe thead th {\n",
       "        text-align: right;\n",
       "    }\n",
       "</style>\n",
       "<table border=\"1\" class=\"dataframe\">\n",
       "  <thead>\n",
       "    <tr style=\"text-align: right;\">\n",
       "      <th></th>\n",
       "      <th>id</th>\n",
       "      <th>F1</th>\n",
       "      <th>F2</th>\n",
       "      <th>F3</th>\n",
       "      <th>F4</th>\n",
       "      <th>F5</th>\n",
       "      <th>F6</th>\n",
       "      <th>F7</th>\n",
       "      <th>F8</th>\n",
       "      <th>F9</th>\n",
       "      <th>...</th>\n",
       "      <th>F19</th>\n",
       "      <th>F20</th>\n",
       "      <th>F21</th>\n",
       "      <th>F22</th>\n",
       "      <th>F23</th>\n",
       "      <th>F24</th>\n",
       "      <th>F25</th>\n",
       "      <th>F26</th>\n",
       "      <th>F27</th>\n",
       "      <th>F28</th>\n",
       "    </tr>\n",
       "  </thead>\n",
       "  <tbody>\n",
       "    <tr>\n",
       "      <th>0</th>\n",
       "      <td>HOBBIES_1_001_CA_1_validation</td>\n",
       "      <td>0.813340</td>\n",
       "      <td>0.718993</td>\n",
       "      <td>0.704529</td>\n",
       "      <td>0.648331</td>\n",
       "      <td>0.775682</td>\n",
       "      <td>0.992471</td>\n",
       "      <td>1.008007</td>\n",
       "      <td>0.710761</td>\n",
       "      <td>0.704353</td>\n",
       "      <td>...</td>\n",
       "      <td>0.855882</td>\n",
       "      <td>1.072450</td>\n",
       "      <td>1.053544</td>\n",
       "      <td>0.786684</td>\n",
       "      <td>0.723608</td>\n",
       "      <td>0.727034</td>\n",
       "      <td>0.732214</td>\n",
       "      <td>0.891831</td>\n",
       "      <td>1.140633</td>\n",
       "      <td>1.065064</td>\n",
       "    </tr>\n",
       "    <tr>\n",
       "      <th>1</th>\n",
       "      <td>HOBBIES_1_002_CA_1_validation</td>\n",
       "      <td>0.286431</td>\n",
       "      <td>0.269616</td>\n",
       "      <td>0.272273</td>\n",
       "      <td>0.277852</td>\n",
       "      <td>0.328231</td>\n",
       "      <td>0.350539</td>\n",
       "      <td>0.315933</td>\n",
       "      <td>0.242888</td>\n",
       "      <td>0.194041</td>\n",
       "      <td>...</td>\n",
       "      <td>0.256483</td>\n",
       "      <td>0.311692</td>\n",
       "      <td>0.298974</td>\n",
       "      <td>0.215887</td>\n",
       "      <td>0.207810</td>\n",
       "      <td>0.273650</td>\n",
       "      <td>0.266588</td>\n",
       "      <td>0.299794</td>\n",
       "      <td>0.334512</td>\n",
       "      <td>0.336518</td>\n",
       "    </tr>\n",
       "    <tr>\n",
       "      <th>2</th>\n",
       "      <td>HOBBIES_1_003_CA_1_validation</td>\n",
       "      <td>0.365714</td>\n",
       "      <td>0.340510</td>\n",
       "      <td>0.351393</td>\n",
       "      <td>0.368052</td>\n",
       "      <td>0.468741</td>\n",
       "      <td>0.584589</td>\n",
       "      <td>0.502270</td>\n",
       "      <td>0.320419</td>\n",
       "      <td>0.319222</td>\n",
       "      <td>...</td>\n",
       "      <td>0.423254</td>\n",
       "      <td>0.617693</td>\n",
       "      <td>0.552785</td>\n",
       "      <td>0.438575</td>\n",
       "      <td>0.411388</td>\n",
       "      <td>0.432698</td>\n",
       "      <td>0.440525</td>\n",
       "      <td>0.514527</td>\n",
       "      <td>0.690679</td>\n",
       "      <td>0.660371</td>\n",
       "    </tr>\n",
       "    <tr>\n",
       "      <th>3</th>\n",
       "      <td>HOBBIES_1_004_CA_1_validation</td>\n",
       "      <td>1.969896</td>\n",
       "      <td>1.559717</td>\n",
       "      <td>1.566354</td>\n",
       "      <td>1.520647</td>\n",
       "      <td>1.820497</td>\n",
       "      <td>2.426325</td>\n",
       "      <td>2.930362</td>\n",
       "      <td>1.924078</td>\n",
       "      <td>1.548568</td>\n",
       "      <td>...</td>\n",
       "      <td>1.982726</td>\n",
       "      <td>2.371639</td>\n",
       "      <td>2.570169</td>\n",
       "      <td>1.991880</td>\n",
       "      <td>1.683050</td>\n",
       "      <td>1.544717</td>\n",
       "      <td>1.541905</td>\n",
       "      <td>1.918762</td>\n",
       "      <td>2.591923</td>\n",
       "      <td>2.742036</td>\n",
       "    </tr>\n",
       "    <tr>\n",
       "      <th>4</th>\n",
       "      <td>HOBBIES_1_005_CA_1_validation</td>\n",
       "      <td>0.925106</td>\n",
       "      <td>0.786058</td>\n",
       "      <td>0.857674</td>\n",
       "      <td>0.993413</td>\n",
       "      <td>1.033872</td>\n",
       "      <td>1.467519</td>\n",
       "      <td>1.650921</td>\n",
       "      <td>1.180856</td>\n",
       "      <td>1.148202</td>\n",
       "      <td>...</td>\n",
       "      <td>1.195120</td>\n",
       "      <td>1.531255</td>\n",
       "      <td>1.446043</td>\n",
       "      <td>0.936965</td>\n",
       "      <td>0.863706</td>\n",
       "      <td>0.868228</td>\n",
       "      <td>0.878532</td>\n",
       "      <td>1.027789</td>\n",
       "      <td>1.358957</td>\n",
       "      <td>1.496262</td>\n",
       "    </tr>\n",
       "  </tbody>\n",
       "</table>\n",
       "<p>5 rows × 29 columns</p>\n",
       "</div>"
      ],
      "text/plain": [
       "                              id        F1        F2        F3        F4  \\\n",
       "0  HOBBIES_1_001_CA_1_validation  0.813340  0.718993  0.704529  0.648331   \n",
       "1  HOBBIES_1_002_CA_1_validation  0.286431  0.269616  0.272273  0.277852   \n",
       "2  HOBBIES_1_003_CA_1_validation  0.365714  0.340510  0.351393  0.368052   \n",
       "3  HOBBIES_1_004_CA_1_validation  1.969896  1.559717  1.566354  1.520647   \n",
       "4  HOBBIES_1_005_CA_1_validation  0.925106  0.786058  0.857674  0.993413   \n",
       "\n",
       "         F5        F6        F7        F8        F9  ...       F19       F20  \\\n",
       "0  0.775682  0.992471  1.008007  0.710761  0.704353  ...  0.855882  1.072450   \n",
       "1  0.328231  0.350539  0.315933  0.242888  0.194041  ...  0.256483  0.311692   \n",
       "2  0.468741  0.584589  0.502270  0.320419  0.319222  ...  0.423254  0.617693   \n",
       "3  1.820497  2.426325  2.930362  1.924078  1.548568  ...  1.982726  2.371639   \n",
       "4  1.033872  1.467519  1.650921  1.180856  1.148202  ...  1.195120  1.531255   \n",
       "\n",
       "        F21       F22       F23       F24       F25       F26       F27  \\\n",
       "0  1.053544  0.786684  0.723608  0.727034  0.732214  0.891831  1.140633   \n",
       "1  0.298974  0.215887  0.207810  0.273650  0.266588  0.299794  0.334512   \n",
       "2  0.552785  0.438575  0.411388  0.432698  0.440525  0.514527  0.690679   \n",
       "3  2.570169  1.991880  1.683050  1.544717  1.541905  1.918762  2.591923   \n",
       "4  1.446043  0.936965  0.863706  0.868228  0.878532  1.027789  1.358957   \n",
       "\n",
       "        F28  \n",
       "0  1.065064  \n",
       "1  0.336518  \n",
       "2  0.660371  \n",
       "3  2.742036  \n",
       "4  1.496262  \n",
       "\n",
       "[5 rows x 29 columns]"
      ]
     },
     "execution_count": 31,
     "metadata": {},
     "output_type": "execute_result"
    }
   ],
   "source": [
    "test = test.assign(F=\"F\" + (test.d - 1913 - 28 * (test.d > 1941)).astype(\"str\"))\n",
    "submission = test.pivot(index=\"id\", columns=\"F\", values=\"demand\").reset_index()[sample_submission.columns]\n",
    "submission = sample_submission[[\"id\"]].merge(submission, how=\"left\", on=\"id\")\n",
    "submission.head()"
   ]
  },
  {
   "cell_type": "code",
   "execution_count": 32,
   "metadata": {},
   "outputs": [],
   "source": [
    "submission.to_csv('team_sun_submission1_lightgbm_model_v1.0.csv', index=False)"
   ]
  }
 ],
 "metadata": {
  "kernelspec": {
   "display_name": "Python 3",
   "language": "python",
   "name": "python3"
  },
  "language_info": {
   "codemirror_mode": {
    "name": "ipython",
    "version": 3
   },
   "file_extension": ".py",
   "mimetype": "text/x-python",
   "name": "python",
   "nbconvert_exporter": "python",
   "pygments_lexer": "ipython3",
   "version": "3.7.4"
  }
 },
 "nbformat": 4,
 "nbformat_minor": 4
}
